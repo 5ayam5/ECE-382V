{
 "cells": [
  {
   "cell_type": "markdown",
   "metadata": {},
   "source": [
    "# Lab 1"
   ]
  },
  {
   "cell_type": "markdown",
   "metadata": {},
   "source": [
    "Due:\n",
    "\n",
    "October 13th\n",
    "\n",
    "Grading:\n",
    "\n",
    "Report 80 Percent, Code 20 Percent"
   ]
  },
  {
   "cell_type": "markdown",
   "metadata": {},
   "source": [
    "## Part 1: Noisy Circuits [40 Points]"
   ]
  },
  {
   "cell_type": "code",
   "execution_count": null,
   "metadata": {},
   "outputs": [],
   "source": [
    "# Import Necessary Libraries\n",
    "from qiskit import QuantumCircuit, Aer, execute, transpile\n",
    "from qiskit.extensions import UnitaryGate\n",
    "from qiskit.quantum_info import Statevector\n",
    "from qiskit.visualization import plot_histogram, plot_error_map\n",
    "from qiskit.providers.fake_provider import FakeLimaV2, FakeQuitoV2, FakeRomeV2, FakeMontrealV2, FakeKolkataV2, FakeAthensV2, FakeAlmadenV2, FakeCambridgeV2\n",
    "from qiskit.visualization import plot_circuit_layout\n",
    "from qiskit_aer import AerSimulator\n",
    "import matplotlib.pyplot as plt\n",
    "import numpy as np\n",
    "from adjustText import adjust_text\n",
    "import math\n",
    "import random\n",
    "import inspect\n",
    "import warnings\n",
    "\n",
    "warnings.filterwarnings('ignore')"
   ]
  },
  {
   "cell_type": "code",
   "execution_count": null,
   "metadata": {},
   "outputs": [],
   "source": [
    "def compute_hdist(dist1: dict[str, float], dist2: dict[str, float]) -> float:\n",
    "    outcomes = set(dist1.keys()).union(set(dist2.keys()))\n",
    "    shots1 = sum(dist1.values())\n",
    "    shots2 = sum(dist2.values())\n",
    "    sqrtp1 = {outcome: math.sqrt(dist1.get(outcome, 0) / shots1)\n",
    "              for outcome in outcomes}\n",
    "    sqrtp2 = {outcome: math.sqrt(dist2.get(outcome, 0) / shots2)\n",
    "              for outcome in outcomes}\n",
    "\n",
    "    return math.sqrt(sum((sqrtp1[outcome] - sqrtp2[outcome])**2 for outcome in outcomes) / 2)\n",
    "\n",
    "def execute_simulator(circuit: QuantumCircuit, simulator):\n",
    "    job = execute(circuit, simulator, shots=1024)\n",
    "    result = job.result()\n",
    "    counts = result.get_counts()\n",
    "    plot_histogram(counts)\n",
    "    return counts\n",
    "\n",
    "\n",
    "def get_name(value):\n",
    "    if inspect.isclass(value):\n",
    "        return value.__name__\n",
    "    if inspect.isfunction(value):\n",
    "        return value.__name__\n",
    "    return value\n",
    "\n",
    "\n",
    "def make_plots(parameters: list[any], runner, parameter_name, x_axis, xlabel, ylabel) -> None:\n",
    "    for parameter in parameters:\n",
    "        y_axis = runner(parameter)\n",
    "        x_axis_new = {x: val for x, val in x_axis.items() if val in y_axis.keys()}\n",
    "\n",
    "        plt.plot(x_axis_new.keys(), y_axis.values())\n",
    "        texts = [plt.text(x, y_axis[value], get_name(value), fontdict=dict(\n",
    "            color='red')) for x, value in x_axis_new.items()]\n",
    "        adjust_text(texts, only_move={'points': '', 'text': 'x'})\n",
    "\n",
    "        plt.title(\n",
    "            f\"Circuit: {runner.__name__}\\n{parameter_name}: {get_name(parameter)}\")\n",
    "        plt.xlabel(xlabel)\n",
    "        plt.ylabel(ylabel)\n",
    "        plt.savefig(f\"outputs/{runner.__name__}_{get_name(parameter)}.png\")\n",
    "        plt.clf()"
   ]
  },
  {
   "cell_type": "code",
   "execution_count": null,
   "metadata": {},
   "outputs": [],
   "source": [
    "backends = {8: FakeLimaV2, 16: FakeQuitoV2,\n",
    "            32: FakeRomeV2, 64: FakeMontrealV2, 128: FakeKolkataV2}\n",
    "\n",
    "\n",
    "def run_circuit(parameter: int, circuit_generator):\n",
    "    circuit = circuit_generator(parameter)\n",
    "    ideal_simulator = Aer.get_backend('statevector_simulator')\n",
    "    ideal_result = execute_simulator(circuit, ideal_simulator)\n",
    "\n",
    "    hdists = dict()\n",
    "    for backend in backends.values():\n",
    "        noisy_result = execute_simulator(\n",
    "            circuit, AerSimulator.from_backend(backend()))\n",
    "        hdists[backend] = compute_hdist(ideal_result, noisy_result)\n",
    "\n",
    "    return hdists"
   ]
  },
  {
   "cell_type": "code",
   "execution_count": null,
   "metadata": {},
   "outputs": [],
   "source": [
    "for backend in backends.values():\n",
    "    plot_error_map(backend()).savefig(f\"outputs/errormap_{get_name(backend)}.png\")"
   ]
  },
  {
   "cell_type": "markdown",
   "metadata": {},
   "source": [
    "#### Question 1 [10 Points]:\n",
    "For this first question you have to create code to produce the GHZ State and measure how the produced distribution matches or differs from the expected outcome. Your measurement will be in the form of a success metric, such as the probability of success of your circuit. Your task is to implement the functions given below and then  select one of the metrics given in class. Note that for evaluation you will need to simulate with both a noisy simulator and an ideal one."
   ]
  },
  {
   "cell_type": "code",
   "execution_count": null,
   "metadata": {},
   "outputs": [],
   "source": [
    "def make_ghz(num_qubits: int, display=False) -> QuantumCircuit:\n",
    "    ghz_circuit = QuantumCircuit(num_qubits)\n",
    "    ghz_circuit.h(0)\n",
    "    for i in range(num_qubits-1):\n",
    "        ghz_circuit.cx(i, i+1)\n",
    "    ghz_circuit.measure_all()\n",
    "    if display:\n",
    "        print(ghz_circuit)\n",
    "    return ghz_circuit"
   ]
  },
  {
   "cell_type": "markdown",
   "metadata": {},
   "source": [
    "#### Question 2 [10 Points]:\n",
    "For this question you  will use the functions you implemented to create a graph. On the Y axis you will have the metric of success you selected in the last question. On the X axis you will have the Quantum Volume. Your task is to find different backends with different quantum volumes and then produce use the functions you created above to make a plot of the metric against Quantum Volume. Furthermore you are required to do this three time each time with a different number of qubits. Use matplotlib to create your plots. Furthermore you are required to do this three time each time with a different number of qubits. Use matplotlib to create your plots.\n",
    "\n",
    "Use the following backends:\n",
    "```\n",
    "Machine         QV\n",
    "FakeLimaV2    :  8\n",
    "FakeQuitoV2   : 16\n",
    "FakeRomeV2    : 32\n",
    "FakeDublinV2  : 64\n",
    "FakeKolkataV2 :128\n",
    "``````\n",
    "Import them as necesssary. Look at the code above to see how to do that."
   ]
  },
  {
   "cell_type": "code",
   "execution_count": null,
   "metadata": {},
   "outputs": [],
   "source": [
    "def ghz(num_qubits: int):\n",
    "    return run_circuit(num_qubits, make_ghz)\n",
    "\n",
    "\n",
    "make_plots([2, 4, 5], ghz, \"Number of Qubits\", backends, \"Quantum Volume\", \"Hdist\")"
   ]
  },
  {
   "cell_type": "markdown",
   "metadata": {},
   "source": [
    "### Bernstein–Vazirani algorithm [20 Points]"
   ]
  },
  {
   "cell_type": "markdown",
   "metadata": {},
   "source": [
    "#### Question 1 [10 Points]:\n",
    "For this first question you have to create code to produce the GHZ State and measure how the produced distribution matches or differs from the expected outcome. Your measurement will be in the form of a success metric, such as the probability of success of your circuit. Your task is to implement the functions given below and then  select one of the metrics given in class, "
   ]
  },
  {
   "cell_type": "code",
   "execution_count": null,
   "metadata": {},
   "outputs": [],
   "source": [
    "def make_bv(num_qubits: int, oracle: str, display=False) -> QuantumCircuit:\n",
    "    bv_circuit = QuantumCircuit(num_qubits + 1)\n",
    "    bv_circuit.x(num_qubits)\n",
    "    for i in range(num_qubits + 1):\n",
    "        bv_circuit.h(i)\n",
    "    bv_circuit.barrier()\n",
    "    for i in range(num_qubits):\n",
    "        if oracle[i] == '1':\n",
    "            bv_circuit.cx(i, num_qubits)\n",
    "    bv_circuit.barrier()\n",
    "    for i in range(num_qubits + 1):\n",
    "        bv_circuit.h(i)\n",
    "    bv_circuit.measure_all()\n",
    "    if display:\n",
    "        print(oracle)\n",
    "        print(bv_circuit)\n",
    "    return bv_circuit"
   ]
  },
  {
   "cell_type": "markdown",
   "metadata": {},
   "source": [
    "#### Question 2 [10 Points]:\n",
    "For this question you  will use the functions you implemented to create a graph. On the Y axis you will have the metric of success you selected in the last question. On the X axis you will have the Quantum Volume. Your task is to experiment with different backends with different quantum volumes and then use the functions you created above to make a plot of the metric against Quantum Volume. Furthermore you are required to do this three time each time with a different number of qubits. Use matplotlib to create your plots.\n",
    "\n",
    "Use the following backends:\n",
    "```\n",
    "Machine         QV\n",
    "FakeLimaV2    :  8\n",
    "FakeQuitoV2   : 16\n",
    "FakeRomeV2    : 32\n",
    "FakeDublinV2  : 64\n",
    "FakeKolkataV2 :128\n",
    "``````\n",
    "Import them as necesssary. Look at the code above to see how to do that."
   ]
  },
  {
   "cell_type": "code",
   "execution_count": null,
   "metadata": {},
   "outputs": [],
   "source": [
    "random.seed(0)\n",
    "\n",
    "\n",
    "def gen_bv(num_qubits: int) -> QuantumCircuit:\n",
    "    oracle = bin(random.randint(0, 2**num_qubits - 1))[2:].zfill(num_qubits)\n",
    "    return make_bv(num_qubits, oracle)\n",
    "\n",
    "\n",
    "def bernstein_vazirani(num_qubits: int):\n",
    "    return run_circuit(num_qubits, gen_bv)\n",
    "\n",
    "\n",
    "make_plots([2, 3, 4], bernstein_vazirani, \"Number of Qubits\", backends, \"Backend\", \"Hdist\")"
   ]
  },
  {
   "cell_type": "markdown",
   "metadata": {},
   "source": [
    "#### Report:\n",
    "In your report describe the metric of success that you used. Describe alternative metrics of success that you could have selected. In your analysis make sure to explain your choices and the tradeofss between metrics. Furthermore summarize your results, explain how they met or did not meet your expectations and why your expectations were what they were. Explain how the performance of the circuit scales with the circuit size and with quantum volume. Implicit in the evaluation is the number of shots used during your simulation, explain why you used the number of shots and how that affects the evaluation method."
   ]
  },
  {
   "cell_type": "markdown",
   "metadata": {},
   "source": [
    "## Part 2: Grover's Amplitude Amplification [30 Points]"
   ]
  },
  {
   "cell_type": "markdown",
   "metadata": {},
   "source": [
    "#### Question 1 [15 Points]\n",
    "For this first part your task is to create a circuit for grover's algorithm with 5 qubits. Create the oracle and encode a bitstring string of your choice, it must have only one 1. Copy the code from above and edit it as needed. Analyze how the performance of your circuit changes changes as the diffuser operation and the oracle operation change. If you used any sources in your report please cite them."
   ]
  },
  {
   "cell_type": "code",
   "execution_count": null,
   "metadata": {},
   "outputs": [],
   "source": [
    "def make_grover(r_iterations: int, solution: str) -> QuantumCircuit:\n",
    "    num_qubits = len(solution)\n",
    "\n",
    "    unitary = np.eye(2**num_qubits)\n",
    "    solution = int(solution, 2)\n",
    "    unitary[solution, solution] = -1\n",
    "    oracle = UnitaryGate(unitary, \"Phase Oracle\")\n",
    "\n",
    "    unitary = -np.eye(2**num_qubits)\n",
    "    unitary[0, 0] = 1\n",
    "    diffuser = UnitaryGate(unitary, \"Diffuser\")\n",
    "\n",
    "    grover_circuit = QuantumCircuit(num_qubits)\n",
    "    for i in range(num_qubits):\n",
    "        grover_circuit.h(i)\n",
    "    grover_circuit.barrier()\n",
    "\n",
    "    for i in range(r_iterations):\n",
    "        grover_circuit.append(oracle, range(num_qubits))\n",
    "        grover_circuit.barrier()\n",
    "\n",
    "        for i in range(num_qubits):\n",
    "            grover_circuit.h(i)\n",
    "        grover_circuit.append(diffuser, range(num_qubits))\n",
    "        for i in range(num_qubits):\n",
    "            grover_circuit.h(i)\n",
    "        grover_circuit.barrier()\n",
    "\n",
    "    grover_circuit.measure_all()\n",
    "\n",
    "    return grover_circuit\n",
    "\n",
    "\n",
    "iterations = {i: i for i in range(0, 51)}\n",
    "\n",
    "\n",
    "def run_grover(backend, solution: str):\n",
    "    correct_distribution = {solution: 1}\n",
    "    print(solution)\n",
    "\n",
    "    h_dists = dict()\n",
    "    for r_iterations in iterations:\n",
    "        ideal_result = execute_simulator(\n",
    "            make_grover(r_iterations, solution), backend())\n",
    "        h_dists[r_iterations] = compute_hdist(\n",
    "            correct_distribution, ideal_result)\n",
    "\n",
    "    return h_dists"
   ]
  },
  {
   "cell_type": "markdown",
   "metadata": {},
   "source": [
    "#### Question 2 [15 Points]\n",
    "\n",
    "For this second Question your task is to use the code that you developed to anayze the performance of your circuit. The X axis in your plot should be the number of iterations. the Y axis should be the success metric you have selected.  Produce a total of two plots one for the experiment on an ideal simulation. Another for the experiment on a noisy backend of your choice."
   ]
  },
  {
   "cell_type": "code",
   "execution_count": null,
   "metadata": {},
   "outputs": [],
   "source": [
    "random.seed(611)\n",
    "num_qubits = 5\n",
    "solution = bin(random.randint(0, 2**num_qubits - 1))[2:].zfill(num_qubits)\n",
    "\n",
    "\n",
    "def grovers_algorithm(backend):\n",
    "    return run_grover(backend, solution)\n",
    "\n",
    "\n",
    "def statevector_simulator():\n",
    "    return Aer.get_backend('statevector_simulator')\n",
    "\n",
    "\n",
    "make_plots([statevector_simulator, FakeKolkataV2], grovers_algorithm,\n",
    "           \"Simulator\", iterations, \"Number of Iterations\", \"Hdist\")"
   ]
  },
  {
   "cell_type": "markdown",
   "metadata": {},
   "source": [
    "#### Report\n",
    "In your report include a section on grover's algorithm. Explain how you encoded the oracle string in your circuit.  Analyze how the number of grover iterations affects your choosen metric, why you have choosen that metric and how would other metrics be better or worse. Does the performance increase as you increase the depth of the circuit? How does this vary between ideal and noisy simulation?"
   ]
  },
  {
   "cell_type": "markdown",
   "metadata": {},
   "source": [
    "## Part 3: Routing"
   ]
  },
  {
   "cell_type": "markdown",
   "metadata": {},
   "source": [
    "#### Question 1 Routing and Swaps [15 Points]\n",
    "For this question you will use the FakeAlmadenV2,FakeAthensV2, FakeCambridgeV2 architecture to analyze the impact of architecture on the performance of the following circuit. Take a look at the circuit below"
   ]
  },
  {
   "cell_type": "code",
   "execution_count": null,
   "metadata": {},
   "outputs": [],
   "source": [
    "routing_backends = [FakeAlmadenV2, FakeAthensV2, FakeCambridgeV2]\n",
    "Num_qubits = {3: 3, 4: 4, 5: 5, 7: 7, 10: 10, 15: 15}"
   ]
  },
  {
   "cell_type": "code",
   "execution_count": null,
   "metadata": {},
   "outputs": [],
   "source": [
    "def generate_complex(n):\n",
    "    qc_complex = QuantumCircuit(n)\n",
    "    for i in range(n):\n",
    "        for j in range(n):\n",
    "            if i != j:\n",
    "                qc_complex.cx(i, j)\n",
    "    return qc_complex\n",
    "\n",
    "\n",
    "def routing(backend):\n",
    "    num_ops = dict()\n",
    "    device_backend = backend()\n",
    "    fig = plot_error_map(device_backend)\n",
    "    display(fig)\n",
    "    fig.savefig(f\"outputs/errormap_{backend.__name__}.png\")\n",
    "    backend_simulator = AerSimulator.from_backend(device_backend)\n",
    "    try:\n",
    "        for num_qubits in Num_qubits:\n",
    "            qc_complex = generate_complex(num_qubits)\n",
    "            qc_complex_transpiled = transpile(qc_complex, backend_simulator)\n",
    "            num_ops[num_qubits] = qc_complex_transpiled.count_ops()['cx']\n",
    "    except Exception as e:\n",
    "        pass\n",
    "    return num_ops"
   ]
  },
  {
   "cell_type": "code",
   "execution_count": null,
   "metadata": {},
   "outputs": [],
   "source": [
    "make_plots(routing_backends, routing, \"Backend\", Num_qubits, \"Number of Qubits\", \"Number of CNOTs\")"
   ]
  },
  {
   "cell_type": "markdown",
   "metadata": {},
   "source": [
    "#### Report\n",
    "Summarize your findings from the part above. Analyze the differences between the architectures and how that affects the number of swaps necessary. Furthermore, discuss how you the circuit above maybe be rewritten to improve performance and reduce swaps."
   ]
  },
  {
   "cell_type": "markdown",
   "metadata": {},
   "source": [
    "#### Question 2\n",
    "\n",
    "For this question you will explore the advantages of noise adaptive routing"
   ]
  },
  {
   "cell_type": "markdown",
   "metadata": {},
   "source": [
    "Analyze how the mappings differ and in your report explain why there is a difference. Furthermore below select one of the circuits you constructed above: grovers, GHZ, BV, analyze how its routed on the three architectures FakeAlmadenV2,FakeAthensV2, FakeCambridgeV2. Analyze how the routing changes with different optimization levels. Refer to the Qiskit documentation for more info if needed. Only consider the case of 5 qubits."
   ]
  },
  {
   "cell_type": "code",
   "execution_count": null,
   "metadata": {},
   "outputs": [],
   "source": [
    "def get_routing(backend):\n",
    "    backend_obj = backend()\n",
    "    for optimization_level in [0, 1, 2, 3]:\n",
    "        quantum_circuit = make_bv(4, '1111')\n",
    "        transpiled_circuit = transpile(quantum_circuit, backend_obj, optimization_level=optimization_level)\n",
    "        fig = plot_circuit_layout(transpiled_circuit, backend_obj)\n",
    "        display(fig)\n",
    "        fig.savefig(f\"outputs/routing_{backend.__name__}_{optimization_level}.png\")"
   ]
  },
  {
   "cell_type": "code",
   "execution_count": null,
   "metadata": {},
   "outputs": [],
   "source": [
    "for backend in routing_backends:\n",
    "    get_routing(backend)"
   ]
  },
  {
   "cell_type": "markdown",
   "metadata": {},
   "source": [
    "#### Report\n",
    "\n",
    "In your report summarize your findings and explain how in your experiments noise adaptive routing impacted the mapping of your qubit."
   ]
  },
  {
   "cell_type": "code",
   "execution_count": null,
   "metadata": {},
   "outputs": [],
   "source": [
    "ghz_circuit = make_ghz(5)\n",
    "ghz_circuit.draw(output='mpl').savefig(\"outputs/ghz.png\")\n",
    "\n",
    "bv_circuit = make_bv(4, '1011')\n",
    "bv_circuit.draw(output='mpl').savefig(\"outputs/bv.png\")\n",
    "\n",
    "grover_circuit = make_grover(5, solution)\n",
    "grover_circuit.draw(output='mpl').savefig(\"outputs/grover.png\")"
   ]
  }
 ],
 "metadata": {
  "kernelspec": {
   "display_name": "Python 3",
   "language": "python",
   "name": "python3"
  },
  "language_info": {
   "codemirror_mode": {
    "name": "ipython",
    "version": 3
   },
   "file_extension": ".py",
   "mimetype": "text/x-python",
   "name": "python",
   "nbconvert_exporter": "python",
   "pygments_lexer": "ipython3",
   "version": "3.11.6"
  },
  "orig_nbformat": 4
 },
 "nbformat": 4,
 "nbformat_minor": 2
}
