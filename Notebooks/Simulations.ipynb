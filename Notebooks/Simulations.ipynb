{
 "cells": [
  {
   "cell_type": "markdown",
   "metadata": {},
   "source": [
    "# Qiskit Tutorial"
   ]
  },
  {
   "cell_type": "markdown",
   "metadata": {},
   "source": [
    "As discussed in the first lecture, the emphasis of this class is on understanding the quantum computing stack. We started at the highest level of the stack in class, briefly studying the Quantum Circuit Model of Computation and how algorithms and data are represented in the model. While this model is not alone, (there are other models such as adiabatic quantum computing, hamiltonian model of quantum computing, dissipative model for quantum computing,...etc), the quantum circuit model is the most prevalent model in industry and academic literature. As such, many software frameworks have been developed to allow software developers to interface with quantum computers using this abstraction. Including but not limited to:\n",
    "- Qiskit by IBM\n",
    "- Cirq and TensorFlow Quantum by Google\n",
    "- Pennylane and Strawberry Fields by Xanadu\n",
    "- Q# by Microsoft\n",
    "- Amazon Braket by AWS\n",
    "- Ocean SDK by D-Wave\n",
    "- ProjectQ developed by ETH Zurich\n",
    "\n",
    "For this tutorial and for the rest of the class we will be using Qiskit. We selected Qiskit because it is an open source framework, with a very large community and great support from IBM. Furthermore, documentation for the framework is comprehensive and easy to read, and IBM offers a lot of educational content online."
   ]
  },
  {
   "cell_type": "markdown",
   "metadata": {},
   "source": [
    "# Check your Qiskit Installation"
   ]
  },
  {
   "cell_type": "code",
   "execution_count": null,
   "metadata": {},
   "outputs": [],
   "source": [
    "from qiskit import QuantumCircuit, transpile, qiskit\n",
    "from qiskit_aer import AerSimulator\n",
    "from qiskit.visualization import plot_histogram\n",
    "from pprint import pprint\n",
    "import numpy as np\n",
    "print(qiskit.__version__)"
   ]
  },
  {
   "cell_type": "markdown",
   "metadata": {},
   "source": [
    "# Building Circuits in Qiskit"
   ]
  },
  {
   "cell_type": "markdown",
   "metadata": {},
   "source": [
    "When implementing a quantum algorithm you usually start by building out the circuit you have designed. Let's start by building a simple circuit with one X gate."
   ]
  },
  {
   "cell_type": "code",
   "execution_count": null,
   "metadata": {},
   "outputs": [],
   "source": [
    "#The First step is to creat the circuit\n",
    "#By default the system is in |0>\n",
    "circ = QuantumCircuit(1)"
   ]
  },
  {
   "cell_type": "markdown",
   "metadata": {},
   "source": [
    "After creating the circuit we can adds gates to it as follows:"
   ]
  },
  {
   "cell_type": "code",
   "execution_count": null,
   "metadata": {},
   "outputs": [],
   "source": [
    "#Then we can gates to the circuit as follows This is the identity gate, think of as a null op\n",
    "circ.id(0)"
   ]
  },
  {
   "cell_type": "markdown",
   "metadata": {},
   "source": [
    "It is often helpful to vizualize your circuit as you are building it to make sure it looks as expected."
   ]
  },
  {
   "cell_type": "code",
   "execution_count": null,
   "metadata": {},
   "outputs": [],
   "source": [
    "#vizualize a Quantum Circuit, 'mpl' option for matplotlib vizualizaiton\n",
    "circ.draw('mpl')"
   ]
  },
  {
   "cell_type": "markdown",
   "metadata": {},
   "source": [
    "To measure the qubit we do the following:"
   ]
  },
  {
   "cell_type": "code",
   "execution_count": null,
   "metadata": {},
   "outputs": [],
   "source": [
    "circ.save_statevector() # we save the state vector in order to be able to view ideal simulations\n",
    "circ.measure_all()\n",
    "circ.draw('mpl')"
   ]
  },
  {
   "cell_type": "markdown",
   "metadata": {},
   "source": [
    "# Simulating Circuits in Qiskit: The Ideal Case"
   ]
  },
  {
   "cell_type": "markdown",
   "metadata": {},
   "source": [
    "To simulate circuits you in qiskit you use hte `Aer Simulator`. We choose one of multiple methods for the simulations that determine how the simulation behaves for now we choose `method=\"Statevector\"` to see ideal results."
   ]
  },
  {
   "cell_type": "code",
   "execution_count": null,
   "metadata": {},
   "outputs": [],
   "source": [
    "#Create the Simulator\n",
    "simulator =  AerSimulator(method=\"statevector\")"
   ]
  },
  {
   "cell_type": "markdown",
   "metadata": {},
   "source": [
    "To start simulating a circuit we must first compile it. Understanding what it means to \"compile\" a quantum circuit is what is going to be covered over the course of the class, for now we just make a call to the `transpile` function."
   ]
  },
  {
   "cell_type": "code",
   "execution_count": null,
   "metadata": {},
   "outputs": [],
   "source": [
    "compiled_circ = transpile(circ, simulator)"
   ]
  },
  {
   "cell_type": "markdown",
   "metadata": {},
   "source": [
    "Now you can run your simulation"
   ]
  },
  {
   "cell_type": "code",
   "execution_count": null,
   "metadata": {},
   "outputs": [],
   "source": [
    "result = simulator.run(compiled_circ, shots=100).result()\n",
    "pprint(result.to_dict())"
   ]
  },
  {
   "cell_type": "markdown",
   "metadata": {},
   "source": [
    "We can make a histogram of the outcome of the experiment:"
   ]
  },
  {
   "cell_type": "code",
   "execution_count": null,
   "metadata": {},
   "outputs": [],
   "source": [
    "counts = result.get_counts(0)\n",
    "plot_histogram(counts)"
   ]
  },
  {
   "cell_type": "markdown",
   "metadata": {},
   "source": [
    "Note that in the above example, we only run the experiment one time. How often we run the experiment does not matter because we are doing an ideal simulation and are only interested in the state vector."
   ]
  },
  {
   "cell_type": "markdown",
   "metadata": {},
   "source": [
    "### Now let's try the same set up with our X,Y,Z gates:"
   ]
  },
  {
   "cell_type": "markdown",
   "metadata": {},
   "source": [
    "#### X"
   ]
  },
  {
   "cell_type": "code",
   "execution_count": null,
   "metadata": {},
   "outputs": [],
   "source": [
    "circ_x = QuantumCircuit(1)\n",
    "circ_x.x(0)\n",
    "circ_x.measure_all()\n",
    "circ_x.draw('mpl')"
   ]
  },
  {
   "cell_type": "code",
   "execution_count": null,
   "metadata": {},
   "outputs": [],
   "source": [
    "compiled_circ_x = transpile(circ_x, simulator)\n",
    "result = simulator.run(compiled_circ_x, shots=1024).result()\n",
    "counts = result.get_counts(0)\n",
    "plot_histogram(counts)"
   ]
  },
  {
   "cell_type": "markdown",
   "metadata": {},
   "source": [
    "#### Y"
   ]
  },
  {
   "cell_type": "code",
   "execution_count": null,
   "metadata": {},
   "outputs": [],
   "source": [
    "circ_y = QuantumCircuit(1)\n",
    "circ_y.y(0)\n",
    "circ_y.measure_all()\n",
    "circ_y.draw('mpl')\n"
   ]
  },
  {
   "cell_type": "code",
   "execution_count": null,
   "metadata": {},
   "outputs": [],
   "source": [
    "\n",
    "compiled_circ_y = transpile(circ_y, simulator)\n",
    "result = simulator.run(compiled_circ_y, shots=1024).result()\n",
    "counts = result.get_counts(0)\n",
    "plot_histogram(counts)"
   ]
  },
  {
   "cell_type": "markdown",
   "metadata": {},
   "source": [
    "#### Z"
   ]
  },
  {
   "cell_type": "code",
   "execution_count": null,
   "metadata": {},
   "outputs": [],
   "source": [
    "circ_z = QuantumCircuit(1)\n",
    "circ_z.z(0)\n",
    "circ_z.measure_all()\n",
    "circ_z.draw('mpl')"
   ]
  },
  {
   "cell_type": "code",
   "execution_count": null,
   "metadata": {},
   "outputs": [],
   "source": [
    "compiled_circ_z = transpile(circ_z, simulator)\n",
    "result = simulator.run(compiled_circ_z, shots=1024).result()\n",
    "counts = result.get_counts(0)\n",
    "plot_histogram(counts)"
   ]
  },
  {
   "cell_type": "markdown",
   "metadata": {},
   "source": [
    "#### XX"
   ]
  },
  {
   "cell_type": "code",
   "execution_count": null,
   "metadata": {},
   "outputs": [],
   "source": [
    "circ_xx = QuantumCircuit(1)\n",
    "circ_xx.x(0)\n",
    "circ_xx.x(0)\n",
    "circ_xx.measure_all()\n",
    "circ_xx.draw('mpl')"
   ]
  },
  {
   "cell_type": "code",
   "execution_count": null,
   "metadata": {},
   "outputs": [],
   "source": [
    "compiled_circ_xx = transpile(circ_xx, simulator)\n",
    "result = simulator.run(compiled_circ_xx, shots=1024).result()\n",
    "counts = result.get_counts(0)\n",
    "plot_histogram(counts)"
   ]
  },
  {
   "cell_type": "markdown",
   "metadata": {},
   "source": [
    "#### H"
   ]
  },
  {
   "cell_type": "code",
   "execution_count": null,
   "metadata": {},
   "outputs": [],
   "source": [
    "circ_h = QuantumCircuit(1)\n",
    "circ_h.h(0)\n",
    "circ_h.measure_all()\n",
    "circ_h.draw('mpl')"
   ]
  },
  {
   "cell_type": "code",
   "execution_count": null,
   "metadata": {},
   "outputs": [],
   "source": [
    "compiled_circ_h = transpile(circ_h, simulator)\n",
    "result = simulator.run(compiled_circ_h, shots=1024).result()\n",
    "counts = result.get_counts(0)\n",
    "plot_histogram(counts)"
   ]
  },
  {
   "cell_type": "markdown",
   "metadata": {},
   "source": [
    "### A side note on debugging quantum algorithms"
   ]
  },
  {
   "cell_type": "markdown",
   "metadata": {},
   "source": [
    "When developing software, it is often helpful to run a debugger. It lets you step through the code one step at a time and view the state of your programs which consists of the values of the variables used, memory layout, .... For Qiskit we can do the following:"
   ]
  },
  {
   "cell_type": "code",
   "execution_count": null,
   "metadata": {},
   "outputs": [],
   "source": [
    "from qiskit.quantum_info import Statevector\n",
    "#We make a circuit as usual\n",
    "circ_debug = QuantumCircuit(2)\n",
    "#Instead of adding gates to the system using meth\n",
    "gates = [\n",
    "    ('h',[0]),\n",
    "    ('cx',[0,1])\n",
    "]\n",
    "for gate in gates:\n",
    "    getattr(circ_debug, gate[0])(*gate[1])\n",
    "    print(Statevector.from_instruction(circ_debug))\n",
    "\n",
    "circ_debug.draw('mpl')"
   ]
  },
  {
   "cell_type": "markdown",
   "metadata": {},
   "source": [
    "Note that We are not running a simulation Here. We are simply calculating what we expect the distribution of the states to be at each time step."
   ]
  },
  {
   "cell_type": "markdown",
   "metadata": {},
   "source": [
    "# Simulating Circuits in Qiskit: Let's add Noise and mesure"
   ]
  },
  {
   "cell_type": "markdown",
   "metadata": {},
   "source": [
    "Currently available quantum computers are very noise and not scalable. Understanding that noise, and ways to mitigate is a necessary part of developing a quantum application. "
   ]
  },
  {
   "cell_type": "code",
   "execution_count": null,
   "metadata": {},
   "outputs": [],
   "source": [
    "circ =  QuantumCircuit(2)\n",
    "circ.h(0)\n",
    "circ.cx(0,1)\n",
    "circ.measure_all()\n",
    "circ.draw('mpl')\n"
   ]
  },
  {
   "cell_type": "markdown",
   "metadata": {},
   "source": [
    "Here is how to create a simulator for a specefic machine:"
   ]
  },
  {
   "cell_type": "code",
   "execution_count": null,
   "metadata": {},
   "outputs": [],
   "source": [
    "from qiskit import IBMQ\n",
    "from qiskit import QuantumCircuit, transpile\n",
    "from qiskit_aer import AerSimulator\n",
    "from qiskit.visualization import plot_histogram\n",
    "from qiskit_aer.noise import NoiseModel\n",
    "from qiskit.providers.fake_provider import FakeWashingtonV2\n",
    "\n",
    "\n",
    "# Get the noise model of IBMVigo\n",
    "device_backend = FakeWashingtonV2()\n",
    "backend_simulator = AerSimulator.from_backend(device_backend)"
   ]
  },
  {
   "cell_type": "code",
   "execution_count": null,
   "metadata": {},
   "outputs": [],
   "source": [
    "device_backend.num_qubits"
   ]
  },
  {
   "cell_type": "markdown",
   "metadata": {},
   "source": [
    "#### Let's Add Noise!"
   ]
  },
  {
   "cell_type": "code",
   "execution_count": null,
   "metadata": {},
   "outputs": [],
   "source": [
    "N = 8\n",
    "circ = QuantumCircuit(N)\n",
    "circ.h(0)\n",
    "for i in range(1,N):\n",
    "    circ.cx(0,i)\n",
    "circ.measure_all()\n",
    "circ.draw('mpl')"
   ]
  },
  {
   "cell_type": "code",
   "execution_count": null,
   "metadata": {},
   "outputs": [],
   "source": [
    "transpiled_circuit = transpile(circ, backend_simulator)\n",
    "result = backend_simulator.run(transpiled_circuit, shots=1024).result()\n",
    "counts = result.get_counts(0)\n",
    "plot_histogram(counts)\n"
   ]
  },
  {
   "cell_type": "markdown",
   "metadata": {},
   "source": [
    "We can control the simulation further by specifying our own noise models, you will do that in the Excercises Portion! We can also use seeds, but that defeats the point of quantum compuatation. It is helpful for research purposes sometimes."
   ]
  },
  {
   "cell_type": "markdown",
   "metadata": {},
   "source": [
    "# Recap"
   ]
  },
  {
   "cell_type": "markdown",
   "metadata": {},
   "source": [
    "We covered:\n",
    "1. How to create quantum circuits in Qiskit.\n",
    "2. How to run an idea simulation, and view the evolution of the state vector at different points of execution for debugging.\n",
    "3. How to simulate a machine with noise using Qiskit."
   ]
  },
  {
   "cell_type": "markdown",
   "metadata": {},
   "source": [
    "# Resources "
   ]
  },
  {
   "cell_type": "markdown",
   "metadata": {},
   "source": [
    "https://docs.quantum-computing.ibm.com"
   ]
  },
  {
   "cell_type": "markdown",
   "metadata": {},
   "source": [
    "# Excercise"
   ]
  },
  {
   "cell_type": "code",
   "execution_count": null,
   "metadata": {},
   "outputs": [],
   "source": [
    "secret_number = '11100'\n",
    "bv_circ = QuantumCircuit(len(secret_number)+1,len(secret_number))\n",
    "\n",
    "bv_circ.x(len(secret_number))\n",
    "bv_circ.barrier()\n",
    "bv_circ.h(range(len(secret_number)+1))\n",
    "bv_circ.barrier()\n",
    "\n",
    "#bv_circ.barrier()\n",
    "for digit, query in enumerate(reversed(secret_number)):\n",
    "    if query == \"1\":\n",
    "        bv_circ.cx(digit, len(secret_number))\n",
    "bv_circ.barrier()\n",
    "bv_circ.h(range(len(secret_number)))\n",
    "bv_circ.measure(range(len(secret_number)),range(len(secret_number)))\n",
    "bv_circ.draw('mpl')"
   ]
  },
  {
   "cell_type": "code",
   "execution_count": null,
   "metadata": {},
   "outputs": [],
   "source": [
    "transpiled_circuit = transpile(bv_circ, backend_simulator)\n",
    "result = backend_simulator.run(transpiled_circuit, shots=1024).result()\n",
    "counts = result.get_counts(0)\n",
    "plot_histogram(counts)"
   ]
  }
 ],
 "metadata": {
  "kernelspec": {
   "display_name": "Python 3",
   "language": "python",
   "name": "python3"
  },
  "language_info": {
   "codemirror_mode": {
    "name": "ipython",
    "version": 3
   },
   "file_extension": ".py",
   "mimetype": "text/x-python",
   "name": "python",
   "nbconvert_exporter": "python",
   "pygments_lexer": "ipython3",
   "version": "3.11.5"
  },
  "orig_nbformat": 4
 },
 "nbformat": 4,
 "nbformat_minor": 2
}
